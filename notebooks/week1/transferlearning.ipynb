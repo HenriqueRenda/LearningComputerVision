{
 "cells": [
  {
   "cell_type": "markdown",
   "metadata": {},
   "source": [
    "# Transfer Learning Workflow"
   ]
  },
  {
   "cell_type": "code",
   "execution_count": 1,
   "metadata": {},
   "outputs": [
    {
     "name": "stdout",
     "output_type": "stream",
     "text": [
      "Num GPUs Available:  1\n",
      "TensorFlow has access to the following devices:\n",
      "[PhysicalDevice(name='/physical_device:CPU:0', device_type='CPU'), PhysicalDevice(name='/physical_device:GPU:0', device_type='GPU')]\n"
     ]
    }
   ],
   "source": [
    "import matplotlib.pyplot as plt\n",
    "\n",
    "import tensorflow as tf\n",
    "from tensorflow import keras\n",
    "from tensorflow.keras.preprocessing import image_dataset_from_directory\n",
    "\n",
    "from tensorflow.keras.applications import ResNet50\n",
    "\n",
    "from keras.optimizers import Adam\n",
    "from keras.callbacks import EarlyStopping\n",
    "\n",
    "from keras.layers import BatchNormalization, Dropout\n",
    "\n",
    "print(\"Num GPUs Available: \", len(tf.config.list_physical_devices('GPU')))\n",
    "print(f\"TensorFlow has access to the following devices:\\n{tf.config.list_physical_devices()}\")"
   ]
  },
  {
   "cell_type": "markdown",
   "metadata": {},
   "source": [
    "## Helper Functions"
   ]
  },
  {
   "cell_type": "markdown",
   "metadata": {},
   "source": [
    "## 1. Data Preparation"
   ]
  },
  {
   "cell_type": "code",
   "execution_count": 2,
   "metadata": {},
   "outputs": [
    {
     "name": "stdout",
     "output_type": "stream",
     "text": [
      "Found 5117 images belonging to 2 classes.\n",
      "Found 5051 images belonging to 2 classes.\n"
     ]
    }
   ],
   "source": [
    "TRAINING_DIR = \"/Users/henriquerenda/Documents/LearningComputerVision/data/CarxTruck/train\"\n",
    "VALIDATION_DIR = \"/Users/henriquerenda/Documents/LearningComputerVision/data/CarxTruck/valid\"\n",
    "\n",
    "'''\n",
    "\n",
    "train_ds = image_dataset_from_directory(\n",
    "    directory=TRAINING_DIR,\n",
    "    labels='inferred',\n",
    "    label_mode='binary',\n",
    "    batch_size=32,\n",
    "    image_size=(128, 128),\n",
    "    color_mode = 'rgb',\n",
    "    shuffle=True,\n",
    "    seed=42\n",
    ")\n",
    "\n",
    "validation_ds = image_dataset_from_directory(\n",
    "    directory=VALIDATION_DIR,\n",
    "    labels='inferred',\n",
    "    label_mode='binary',\n",
    "    batch_size=32,\n",
    "    image_size=(128, 128),\n",
    "    color_mode = 'rgb',\n",
    "    shuffle=True,\n",
    "    seed=42\n",
    ")\n",
    "'''\n",
    "\n",
    "from tensorflow.keras.preprocessing.image import ImageDataGenerator\n",
    "\n",
    "train_datagen = ImageDataGenerator(\n",
    "    featurewise_center=True,\n",
    "    featurewise_std_normalization=True,\n",
    "    rotation_range=20,\n",
    "    width_shift_range=0.2,\n",
    "    height_shift_range=0.2,\n",
    "    horizontal_flip=True,\n",
    ")\n",
    "\n",
    "val_datagen = ImageDataGenerator(\n",
    "    featurewise_center=True,\n",
    "    featurewise_std_normalization=True,\n",
    "    rotation_range=20,\n",
    "    width_shift_range=0.2,\n",
    "    height_shift_range=0.2,\n",
    "    horizontal_flip=True,\n",
    ")\n",
    "\n",
    "train_generator = train_datagen.flow_from_directory(\n",
    "    directory=TRAINING_DIR,\n",
    "    class_mode='binary',\n",
    "    batch_size=32,\n",
    "    target_size=(128, 128),\n",
    "    color_mode = 'rgb',\n",
    "    shuffle=True,\n",
    "    seed=42,\n",
    ")\n",
    "\n",
    "val_generator = val_datagen.flow_from_directory(\n",
    "    directory=VALIDATION_DIR,\n",
    "    class_mode='binary',\n",
    "    batch_size=32,\n",
    "    target_size=(128, 128),\n",
    "    color_mode = 'rgb',\n",
    "    shuffle=True,\n",
    "    seed=42,\n",
    ")"
   ]
  },
  {
   "cell_type": "markdown",
   "metadata": {},
   "source": [
    "## 2. Data Augmentation"
   ]
  },
  {
   "cell_type": "code",
   "execution_count": 3,
   "metadata": {},
   "outputs": [],
   "source": [
    "#general configuration of the models\n",
    "epochs=50\n",
    "callback = EarlyStopping(monitor='val_loss', patience=3,mode='min')\n",
    "batch_size=64"
   ]
  },
  {
   "cell_type": "code",
   "execution_count": 4,
   "metadata": {},
   "outputs": [
    {
     "name": "stdout",
     "output_type": "stream",
     "text": [
      "Metal device set to: Apple M1 Pro\n",
      "\n",
      "systemMemory: 16.00 GB\n",
      "maxCacheSize: 5.33 GB\n",
      "\n"
     ]
    },
    {
     "name": "stderr",
     "output_type": "stream",
     "text": [
      "2022-06-17 11:32:43.964771: I tensorflow/core/common_runtime/pluggable_device/pluggable_device_factory.cc:305] Could not identify NUMA node of platform GPU ID 0, defaulting to 0. Your kernel may not have been built with NUMA support.\n",
      "2022-06-17 11:32:43.964906: I tensorflow/core/common_runtime/pluggable_device/pluggable_device_factory.cc:271] Created TensorFlow device (/job:localhost/replica:0/task:0/device:GPU:0 with 0 MB memory) -> physical PluggableDevice (device: 0, name: METAL, pci bus id: <undefined>)\n"
     ]
    },
    {
     "name": "stdout",
     "output_type": "stream",
     "text": [
      "Model: \"model\"\n",
      "_________________________________________________________________\n",
      " Layer (type)                Output Shape              Param #   \n",
      "=================================================================\n",
      " input_2 (InputLayer)        [(None, 128, 128, 3)]     0         \n",
      "                                                                 \n",
      " resnet50 (Functional)       (None, 4, 4, 2048)        23587712  \n",
      "                                                                 \n",
      " global_average_pooling2d (G  (None, 2048)             0         \n",
      " lobalAveragePooling2D)                                          \n",
      "                                                                 \n",
      " batch_normalization (BatchN  (None, 2048)             8192      \n",
      " ormalization)                                                   \n",
      "                                                                 \n",
      " dropout (Dropout)           (None, 2048)              0         \n",
      "                                                                 \n",
      " dense (Dense)               (None, 1)                 2049      \n",
      "                                                                 \n",
      "=================================================================\n",
      "Total params: 23,597,953\n",
      "Trainable params: 6,145\n",
      "Non-trainable params: 23,591,808\n",
      "_________________________________________________________________\n"
     ]
    },
    {
     "name": "stderr",
     "output_type": "stream",
     "text": [
      "/Users/henriquerenda/miniforge3/envs/MachineLearningEnv/lib/python3.8/site-packages/keras/optimizers/optimizer_v2/adam.py:110: UserWarning: The `lr` argument is deprecated, use `learning_rate` instead.\n",
      "  super(Adam, self).__init__(name, **kwargs)\n"
     ]
    }
   ],
   "source": [
    "# Initialize the Pretrained Model\n",
    "feature_extractor = ResNet50(weights='imagenet', \n",
    "                             input_shape=(128, 128, 3),\n",
    "                             include_top=False)\n",
    "\n",
    "# Set this parameter to make sure it's not being trained\n",
    "feature_extractor.trainable = False\n",
    "\n",
    "# Set the input layer\n",
    "input_ = tf.keras.Input(shape=(128, 128, 3))\n",
    "\n",
    "# Set the feature extractor layer\n",
    "x = feature_extractor(input_, training=False)\n",
    "\n",
    "# Set the pooling layer\n",
    "x = tf.keras.layers.GlobalAveragePooling2D()(x)\n",
    "\n",
    "x = BatchNormalization()(x)\n",
    "x = Dropout(0.5)(x) \n",
    "\n",
    "# Set the final layer with sigmoid activation function\n",
    "output_ = tf.keras.layers.Dense(1, activation='sigmoid')(x)\n",
    "\n",
    "# Create the new model object\n",
    "model = tf.keras.Model(input_, output_)\n",
    "\n",
    "# Compile it\n",
    "opt = Adam(lr=0.0005, decay=1e-6)\n",
    "model.compile(optimizer=opt,\n",
    "             loss='binary_crossentropy',\n",
    "             metrics=['accuracy'])\n",
    "\n",
    "# Print The Summary of The Model\n",
    "model.summary()"
   ]
  },
  {
   "cell_type": "code",
   "execution_count": 6,
   "metadata": {},
   "outputs": [
    {
     "name": "stdout",
     "output_type": "stream",
     "text": [
      "Epoch 1/50\n"
     ]
    },
    {
     "name": "stderr",
     "output_type": "stream",
     "text": [
      "/Users/henriquerenda/miniforge3/envs/MachineLearningEnv/lib/python3.8/site-packages/keras/preprocessing/image.py:1663: UserWarning: This ImageDataGenerator specifies `featurewise_center`, but it hasn't been fit on any training data. Fit it first by calling `.fit(numpy_data)`.\n",
      "  warnings.warn('This ImageDataGenerator specifies '\n",
      "/Users/henriquerenda/miniforge3/envs/MachineLearningEnv/lib/python3.8/site-packages/keras/preprocessing/image.py:1671: UserWarning: This ImageDataGenerator specifies `featurewise_std_normalization`, but it hasn't been fit on any training data. Fit it first by calling `.fit(numpy_data)`.\n",
      "  warnings.warn('This ImageDataGenerator specifies '\n",
      "2022-06-17 11:33:15.222729: W tensorflow/core/platform/profile_utils/cpu_utils.cc:128] Failed to get CPU frequency: 0 Hz\n",
      "2022-06-17 11:33:16.706842: I tensorflow/core/grappler/optimizers/custom_graph_optimizer_registry.cc:113] Plugin optimizer for device_type GPU is enabled.\n"
     ]
    },
    {
     "name": "stdout",
     "output_type": "stream",
     "text": [
      "160/160 [==============================] - ETA: 0s - loss: 0.7606 - accuracy: 0.6752"
     ]
    },
    {
     "name": "stderr",
     "output_type": "stream",
     "text": [
      "2022-06-17 11:33:29.952162: I tensorflow/core/grappler/optimizers/custom_graph_optimizer_registry.cc:113] Plugin optimizer for device_type GPU is enabled.\n"
     ]
    },
    {
     "name": "stdout",
     "output_type": "stream",
     "text": [
      "160/160 [==============================] - 27s 157ms/step - loss: 0.7606 - accuracy: 0.6752 - val_loss: 0.4629 - val_accuracy: 0.7856\n",
      "Epoch 2/50\n",
      "160/160 [==============================] - 24s 151ms/step - loss: 0.6278 - accuracy: 0.7344 - val_loss: 0.4433 - val_accuracy: 0.8012\n",
      "Epoch 3/50\n",
      "160/160 [==============================] - 24s 151ms/step - loss: 0.5333 - accuracy: 0.7663 - val_loss: 0.4176 - val_accuracy: 0.8111\n",
      "Epoch 4/50\n",
      "160/160 [==============================] - 24s 150ms/step - loss: 0.4886 - accuracy: 0.7817 - val_loss: 0.4086 - val_accuracy: 0.8123\n",
      "Epoch 5/50\n",
      "160/160 [==============================] - 24s 150ms/step - loss: 0.4740 - accuracy: 0.7848 - val_loss: 0.3956 - val_accuracy: 0.8252\n",
      "Epoch 6/50\n",
      "160/160 [==============================] - 24s 150ms/step - loss: 0.4464 - accuracy: 0.7979 - val_loss: 0.3960 - val_accuracy: 0.8200\n",
      "Epoch 7/50\n",
      "160/160 [==============================] - 25s 154ms/step - loss: 0.4354 - accuracy: 0.8036 - val_loss: 0.3933 - val_accuracy: 0.8238\n",
      "Epoch 8/50\n",
      "160/160 [==============================] - 24s 152ms/step - loss: 0.4372 - accuracy: 0.7985 - val_loss: 0.3875 - val_accuracy: 0.8303\n",
      "Epoch 9/50\n",
      "160/160 [==============================] - 23s 141ms/step - loss: 0.4381 - accuracy: 0.8011 - val_loss: 0.3790 - val_accuracy: 0.8321\n",
      "Epoch 10/50\n",
      "160/160 [==============================] - 22s 137ms/step - loss: 0.4159 - accuracy: 0.8108 - val_loss: 0.3764 - val_accuracy: 0.8317\n",
      "Epoch 11/50\n",
      "160/160 [==============================] - 22s 138ms/step - loss: 0.4231 - accuracy: 0.8108 - val_loss: 0.3856 - val_accuracy: 0.8272\n",
      "Epoch 12/50\n",
      "160/160 [==============================] - 22s 138ms/step - loss: 0.4218 - accuracy: 0.8108 - val_loss: 0.3851 - val_accuracy: 0.8218\n",
      "Epoch 13/50\n",
      "160/160 [==============================] - 22s 137ms/step - loss: 0.4226 - accuracy: 0.8093 - val_loss: 0.3775 - val_accuracy: 0.8351\n"
     ]
    }
   ],
   "source": [
    "history = model.fit(\n",
    "    train_generator, \n",
    "    validation_data=val_generator,\n",
    "    epochs=epochs,\n",
    "    batch_size=batch_size,\n",
    "    callbacks=[callback])"
   ]
  },
  {
   "cell_type": "code",
   "execution_count": 7,
   "metadata": {},
   "outputs": [
    {
     "data": {
      "image/png": "[encoded data removed]",
      "text/plain": [
       "<Figure size 432x288 with 1 Axes>"
      ]
     },
     "metadata": {
      "needs_background": "light"
     },
     "output_type": "display_data"
    },
    {
     "data": {
      "image/png": "[encoded data removed]",
      "text/plain": [
       "<Figure size 432x288 with 1 Axes>"
      ]
     },
     "metadata": {
      "needs_background": "light"
     },
     "output_type": "display_data"
    }
   ],
   "source": [
    "# Plot training & validation accuracy values\n",
    "plt.plot(history.history['accuracy'])\n",
    "plt.plot(history.history['val_accuracy'])\n",
    "plt.title('Model accuracy')\n",
    "plt.ylabel('Accuracy')\n",
    "plt.xlabel('Epoch')\n",
    "plt.legend(['Train', 'Test'], loc='upper left')\n",
    "plt.show()\n",
    "\n",
    "# Plot training & validation loss values\n",
    "plt.plot(history.history['loss'])\n",
    "plt.plot(history.history['val_loss'])\n",
    "plt.title('Model loss')\n",
    "plt.ylabel('Loss')\n",
    "plt.xlabel('Epochs')\n",
    "plt.legend(['Train', 'Test'], loc='upper left')\n",
    "plt.show()"
   ]
  },
  {
   "cell_type": "code",
   "execution_count": null,
   "metadata": {},
   "outputs": [],
   "source": []
  }
 ],
 "metadata": {
  "kernelspec": {
   "display_name": "Python 3.8.13 ('MachineLearningEnv')",
   "language": "python",
   "name": "python3"
  },
  "language_info": {
   "codemirror_mode": {
    "name": "ipython",
    "version": 3
   },
   "file_extension": ".py",
   "mimetype": "text/x-python",
   "name": "python",
   "nbconvert_exporter": "python",
   "pygments_lexer": "ipython3",
   "version": "3.8.13"
  },
  "orig_nbformat": 4,
  "vscode": {
   "interpreter": {
    "hash": "88271495bba76243a048ee8ae87e41baf01539b291473f876b708f12883b5161"
   }
  }
 },
 "nbformat": 4,
 "nbformat_minor": 2
}
